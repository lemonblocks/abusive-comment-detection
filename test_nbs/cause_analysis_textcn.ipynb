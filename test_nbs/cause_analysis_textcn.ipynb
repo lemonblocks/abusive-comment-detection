{
 "cells": [
  {
   "cell_type": "code",
   "execution_count": 1,
   "metadata": {},
   "outputs": [],
   "source": [
    "import os\n",
    "import sys\n",
    "sys.path.append(os.path.abspath('..'))"
   ]
  },
  {
   "cell_type": "code",
   "execution_count": 32,
   "metadata": {},
   "outputs": [],
   "source": [
    "import pandas as pd\n",
    "import numpy as np\n",
    "from collections import Counter, defaultdict\n",
    "from tqdm import tqdm\n",
    "from data_preprocess.datasets import build_vocab"
   ]
  },
  {
   "cell_type": "code",
   "execution_count": 3,
   "metadata": {},
   "outputs": [],
   "source": [
    "train_csv = pd.read_csv(sys.path[-1] + '/raw_data/clean-ta-train.csv')\n",
    "dev_csv = pd.read_csv(sys.path[-1] + '/raw_data/clean-ta-dev.csv')"
   ]
  },
  {
   "cell_type": "code",
   "execution_count": 14,
   "metadata": {},
   "outputs": [],
   "source": [
    "train_tokens = ' '.join(list(train_csv['tokenstr'])).split()\n",
    "dev_tokens = ' '.join(list(dev_csv['tokenstr'])).split()"
   ]
  },
  {
   "cell_type": "code",
   "execution_count": 18,
   "metadata": {},
   "outputs": [],
   "source": [
    "train_counter = dict(Counter(train_tokens).most_common())\n",
    "dev_counter = dict(Counter(dev_tokens).most_common())"
   ]
  },
  {
   "cell_type": "code",
   "execution_count": 16,
   "metadata": {},
   "outputs": [
    {
     "data": {
      "text/plain": [
       "11018"
      ]
     },
     "execution_count": 16,
     "metadata": {},
     "output_type": "execute_result"
    }
   ],
   "source": [
    "len(train_counter)"
   ]
  },
  {
   "cell_type": "code",
   "execution_count": 17,
   "metadata": {},
   "outputs": [
    {
     "data": {
      "text/plain": [
       "3693"
      ]
     },
     "execution_count": 17,
     "metadata": {},
     "output_type": "execute_result"
    }
   ],
   "source": [
    "len(dev_counter)"
   ]
  },
  {
   "cell_type": "code",
   "execution_count": 33,
   "metadata": {},
   "outputs": [],
   "source": [
    "def count_dev_freq_frac_in_train(train_counter, dev_counter, min_freq=1, targ_freq=0):\n",
    "    ans_list = []\n",
    "    total = 0\n",
    "    for k, v in dev_counter.items():\n",
    "        if v >= min_freq:\n",
    "            total += 1\n",
    "            if train_counter.get(k, 0) == targ_freq:\n",
    "                ans_list.append([k, v])\n",
    "    \n",
    "    return len(ans_list), total, len(ans_list) / total, np.mean([ans[1] for ans in ans_list])"
   ]
  },
  {
   "cell_type": "code",
   "execution_count": 35,
   "metadata": {},
   "outputs": [
    {
     "data": {
      "text/plain": [
       "(1808, 3693, 0.48957487137828326, 1.0813053097345133)"
      ]
     },
     "execution_count": 35,
     "metadata": {},
     "output_type": "execute_result"
    }
   ],
   "source": [
    "count_dev_freq_frac_in_train(train_counter, dev_counter, 1, 0)"
   ]
  },
  {
   "cell_type": "code",
   "execution_count": null,
   "metadata": {},
   "outputs": [],
   "source": []
  }
 ],
 "metadata": {
  "interpreter": {
   "hash": "2b51cfec3c8e93b29d93c81040cbdc7c3b9660554987f1f733453121b1ba6236"
  },
  "kernelspec": {
   "display_name": "Python 3.7.11 64-bit ('torch110': conda)",
   "language": "python",
   "name": "python3"
  },
  "language_info": {
   "codemirror_mode": {
    "name": "ipython",
    "version": 3
   },
   "file_extension": ".py",
   "mimetype": "text/x-python",
   "name": "python",
   "nbconvert_exporter": "python",
   "pygments_lexer": "ipython3",
   "version": "3.7.11"
  },
  "orig_nbformat": 4
 },
 "nbformat": 4,
 "nbformat_minor": 2
}
