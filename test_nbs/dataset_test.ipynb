{
 "cells": [
  {
   "cell_type": "code",
   "execution_count": 1,
   "metadata": {},
   "outputs": [],
   "source": [
    "import os\n",
    "import sys\n",
    "sys.path.append(os.path.abspath('..'))"
   ]
  },
  {
   "cell_type": "code",
   "execution_count": 12,
   "metadata": {},
   "outputs": [],
   "source": [
    "import torch\n",
    "import torch.utils.data as tud\n",
    "import pandas as pd\n",
    "from collections import Counter, OrderedDict\n",
    "from torchtext.vocab import vocab"
   ]
  },
  {
   "cell_type": "code",
   "execution_count": 30,
   "metadata": {},
   "outputs": [],
   "source": [
    "def build_vocab(train_csv=None, dev_csv=None):\n",
    "    '依据 train_csv 或 dev_csv 来构建词典'\n",
    "    train_tokens = ' '.join(list(train_csv['tokenstr'])).split() if train_csv is not None else []\n",
    "    dev_tokens = ' '.join(list(dev_csv['tokenstr'])).split() if dev_csv is not None else []\n",
    "\n",
    "    total_tokens = train_tokens + dev_tokens\n",
    "    counter = Counter(total_tokens).most_common()\n",
    "    ordered_dict = OrderedDict(counter)\n",
    "\n",
    "    _vocab = vocab(ordered_dict, min_freq=2)\n",
    "    special_tokens = ['<mask>', '<sep>', '<cls>', '<unk>', '<pad>']\n",
    "\n",
    "    for token in special_tokens:\n",
    "        _vocab.insert_token(token, 0)\n",
    "    _vocab.set_default_index(_vocab['<unk>'])\n",
    "\n",
    "    return _vocab\n"
   ]
  },
  {
   "cell_type": "code",
   "execution_count": 31,
   "metadata": {},
   "outputs": [],
   "source": [
    "train_csv = pd.read_csv(sys.path[-1] + '/raw_data/clean-ta-train.csv')\n",
    "dev_csv = pd.read_csv(sys.path[-1] + '/raw_data/clean-ta-dev.csv')"
   ]
  },
  {
   "cell_type": "code",
   "execution_count": 32,
   "metadata": {},
   "outputs": [],
   "source": [
    "ta_voacb = build_vocab(train_csv, dev_csv)"
   ]
  },
  {
   "cell_type": "code",
   "execution_count": null,
   "metadata": {},
   "outputs": [],
   "source": []
  }
 ],
 "metadata": {
  "interpreter": {
   "hash": "2b51cfec3c8e93b29d93c81040cbdc7c3b9660554987f1f733453121b1ba6236"
  },
  "kernelspec": {
   "display_name": "Python 3.7.11 64-bit ('torch110': conda)",
   "language": "python",
   "name": "python3"
  },
  "language_info": {
   "codemirror_mode": {
    "name": "ipython",
    "version": 3
   },
   "file_extension": ".py",
   "mimetype": "text/x-python",
   "name": "python",
   "nbconvert_exporter": "python",
   "pygments_lexer": "ipython3",
   "version": "3.7.11"
  },
  "orig_nbformat": 4
 },
 "nbformat": 4,
 "nbformat_minor": 2
}
