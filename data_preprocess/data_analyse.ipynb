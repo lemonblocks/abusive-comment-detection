{
 "cells": [
  {
   "cell_type": "code",
   "execution_count": 1,
   "metadata": {},
   "outputs": [],
   "source": [
    "import os\n",
    "import sys\n",
    "sys.path.append(os.path.abspath('..'))"
   ]
  },
  {
   "cell_type": "code",
   "execution_count": 2,
   "metadata": {},
   "outputs": [],
   "source": [
    "import pandas as pd\n",
    "from collections import Counter, defaultdict\n",
    "import re\n",
    "import string\n",
    "import emoji\n",
    "import matplotlib.pyplot as plt\n",
    "from tqdm import tqdm\n",
    "%matplotlib inline"
   ]
  },
  {
   "cell_type": "code",
   "execution_count": 3,
   "metadata": {},
   "outputs": [],
   "source": [
    "raw_train_ta_data = pd.read_csv(sys.path[-1] + '/raw_data/ta-misogyny-train.csv', sep='\\t', header=None)\n",
    "raw_dev_ta_data = pd.read_csv(sys.path[-1] + '/raw_data/ta-misogyny-dev.csv', sep='\\t', header=None)\n",
    "raw_train_ta_en_data = pd.read_csv(sys.path[-1] + '/raw_data/ta-en-misogyny-train.csv', sep='\\t', header=None)\n",
    "raw_dev_ta_en_data = pd.read_csv(sys.path[-1] + '/raw_data/ta-en-misogyny-dev.csv', sep='\\t', header=None)"
   ]
  },
  {
   "cell_type": "markdown",
   "metadata": {},
   "source": [
    "## 1.查看DataFrame中是否有缺失值"
   ]
  },
  {
   "cell_type": "code",
   "execution_count": 4,
   "metadata": {},
   "outputs": [],
   "source": [
    "def judge_nan_and_display(df):\n",
    "    if df[1].isna().any():\n",
    "        return True, df[df.isna().values == True]\n",
    "    else:\n",
    "        return False"
   ]
  },
  {
   "cell_type": "code",
   "execution_count": 5,
   "metadata": {},
   "outputs": [
    {
     "data": {
      "text/plain": [
       "False"
      ]
     },
     "execution_count": 5,
     "metadata": {},
     "output_type": "execute_result"
    }
   ],
   "source": [
    "judge_nan_and_display(raw_train_ta_data)"
   ]
  },
  {
   "cell_type": "code",
   "execution_count": 6,
   "metadata": {},
   "outputs": [
    {
     "data": {
      "text/plain": [
       "False"
      ]
     },
     "execution_count": 6,
     "metadata": {},
     "output_type": "execute_result"
    }
   ],
   "source": [
    "judge_nan_and_display(raw_dev_ta_data)"
   ]
  },
  {
   "cell_type": "code",
   "execution_count": 7,
   "metadata": {},
   "outputs": [
    {
     "data": {
      "text/plain": [
       "(True,\n",
       "                       0    1\n",
       " 27    None-of-the-above  NaN\n",
       " 730   None-of-the-above  NaN\n",
       " 3829  None-of-the-above  NaN\n",
       " 5027  None-of-the-above  NaN\n",
       " 5874  None-of-the-above  NaN)"
      ]
     },
     "execution_count": 7,
     "metadata": {},
     "output_type": "execute_result"
    }
   ],
   "source": [
    "judge_nan_and_display(raw_train_ta_en_data)"
   ]
  },
  {
   "cell_type": "code",
   "execution_count": 8,
   "metadata": {},
   "outputs": [
    {
     "data": {
      "text/plain": [
       "(True,\n",
       "                      0    1\n",
       " 692  None-of-the-above  NaN\n",
       " 811  None-of-the-above  NaN)"
      ]
     },
     "execution_count": 8,
     "metadata": {},
     "output_type": "execute_result"
    }
   ],
   "source": [
    "judge_nan_and_display(raw_dev_ta_en_data)"
   ]
  },
  {
   "cell_type": "code",
   "execution_count": 9,
   "metadata": {},
   "outputs": [],
   "source": [
    "# 不需要做填充, 直接把NaN的行删掉\n",
    "drop_nan_row = lambda df: df.drop(df[df.isna().values==True].index)\n",
    "raw_train_ta_en_data = drop_nan_row(raw_train_ta_en_data)\n",
    "raw_dev_ta_en_data = drop_nan_row(raw_dev_ta_en_data)"
   ]
  },
  {
   "cell_type": "markdown",
   "metadata": {},
   "source": [
    "## 2.统计各数据集中各类别的分布情况"
   ]
  },
  {
   "cell_type": "code",
   "execution_count": 10,
   "metadata": {},
   "outputs": [
    {
     "data": {
      "text/plain": [
       "[('None-of-the-above', 1296),\n",
       " ('Misandry', 446),\n",
       " ('Counter-speech', 149),\n",
       " ('Misogyny', 125),\n",
       " ('Xenophobia', 95),\n",
       " ('Hope-Speech', 86),\n",
       " ('Homophobia', 35),\n",
       " ('Transphobic', 6),\n",
       " ('Not-Tamil', 2)]"
      ]
     },
     "execution_count": 10,
     "metadata": {},
     "output_type": "execute_result"
    }
   ],
   "source": [
    "counter = lambda series: Counter(series).most_common()\n",
    "counter(raw_train_ta_data[0])"
   ]
  },
  {
   "cell_type": "code",
   "execution_count": 11,
   "metadata": {},
   "outputs": [
    {
     "data": {
      "text/plain": [
       "[('None-of-the-above', 346),\n",
       " ('Misandry', 104),\n",
       " ('Counter-speech', 36),\n",
       " ('Xenophobia', 29),\n",
       " ('Misogyny', 24),\n",
       " ('Hope-Speech', 11),\n",
       " ('Homophobia', 8),\n",
       " ('Transphobic', 2)]"
      ]
     },
     "execution_count": 11,
     "metadata": {},
     "output_type": "execute_result"
    }
   ],
   "source": [
    "counter(raw_dev_ta_data[0])"
   ]
  },
  {
   "cell_type": "code",
   "execution_count": 12,
   "metadata": {},
   "outputs": [
    {
     "data": {
      "text/plain": [
       "[('None-of-the-above', 3715),\n",
       " ('Misandry', 830),\n",
       " ('Counter-speech', 348),\n",
       " ('Xenophobia', 297),\n",
       " ('Hope-Speech', 213),\n",
       " ('Misogyny', 211),\n",
       " ('Homophobia', 172),\n",
       " ('Transphobic', 157)]"
      ]
     },
     "execution_count": 12,
     "metadata": {},
     "output_type": "execute_result"
    }
   ],
   "source": [
    "counter(raw_train_ta_en_data[0])"
   ]
  },
  {
   "cell_type": "code",
   "execution_count": 13,
   "metadata": {},
   "outputs": [
    {
     "data": {
      "text/plain": [
       "[('None-of-the-above', 917),\n",
       " ('Misandry', 218),\n",
       " ('Counter-speech', 95),\n",
       " ('Xenophobia', 70),\n",
       " ('Hope-Speech', 53),\n",
       " ('Misogyny', 50),\n",
       " ('Homophobia', 43),\n",
       " ('Transphobic', 40)]"
      ]
     },
     "execution_count": 13,
     "metadata": {},
     "output_type": "execute_result"
    }
   ],
   "source": [
    "counter(raw_dev_ta_en_data[0])"
   ]
  },
  {
   "cell_type": "code",
   "execution_count": 14,
   "metadata": {},
   "outputs": [],
   "source": [
    "# 就只有 raw_train_ta_data 中是出现了 Not-Tamil 这一标签, 考虑直接给他删掉\n",
    "raw_train_ta_data = raw_train_ta_data.drop(raw_train_ta_data[raw_train_ta_data[0]=='Not-Tamil'].index)"
   ]
  },
  {
   "cell_type": "markdown",
   "metadata": {},
   "source": [
    "## 3.设计 Tokenizer, 统计句子长度等信息"
   ]
  },
  {
   "cell_type": "code",
   "execution_count": 15,
   "metadata": {},
   "outputs": [],
   "source": [
    "def join_elipsis(tokens):\n",
    "    # 把有多个点换成省略号\n",
    "    new_tokens = [tokens[0]]\n",
    "    for i in range(1, len(tokens)):\n",
    "        if tokens[i] == '.' and '.' in new_tokens[-1]:\n",
    "            new_tokens[-1] = '......'\n",
    "        else:\n",
    "            new_tokens.append(tokens[i])\n",
    "    return new_tokens\n",
    "\n",
    "def tokenizer(text):\n",
    "    # 删除评论中的emoji表情\n",
    "    text = emoji.get_emoji_regexp().sub(r'', text.encode('utf8').decode('utf8'))\n",
    "    \n",
    "    # 为标点前后加上空格\n",
    "    for x in string.punctuation:\n",
    "        text = text.replace(x,\" %s \" % x)\n",
    "    \n",
    "    # 删除字符串中多余的空格, 并全部小写\n",
    "    result = ' '.join(text.split()).lower()\n",
    "    return join_elipsis(result.split())"
   ]
  },
  {
   "cell_type": "markdown",
   "metadata": {},
   "source": [
    "### 3.1 raw_train_ta_data"
   ]
  },
  {
   "cell_type": "code",
   "execution_count": 16,
   "metadata": {},
   "outputs": [],
   "source": [
    "raw_train_ta_data['tokens'] = raw_train_ta_data[1].apply(tokenizer)\n",
    "raw_train_ta_data['ch_count'] = raw_train_ta_data['tokens'].apply(lambda x: len(x))\n",
    "raw_train_ta_data['tokenstr'] = raw_train_ta_data['tokens'].apply(lambda x: ' '.join(x))"
   ]
  },
  {
   "cell_type": "code",
   "execution_count": 18,
   "metadata": {},
   "outputs": [
    {
     "data": {
      "text/plain": [
       "count    2238.000000\n",
       "mean       14.093834\n",
       "std        16.268592\n",
       "min         1.000000\n",
       "25%         6.000000\n",
       "50%         9.000000\n",
       "75%        16.000000\n",
       "max       193.000000\n",
       "Name: ch_count, dtype: float64"
      ]
     },
     "execution_count": 18,
     "metadata": {},
     "output_type": "execute_result"
    }
   ],
   "source": [
    "raw_train_ta_data['ch_count'].describe()"
   ]
  },
  {
   "cell_type": "code",
   "execution_count": 19,
   "metadata": {},
   "outputs": [
    {
     "data": {
      "text/plain": [
       "Text(0.5, 0, 'category')"
      ]
     },
     "execution_count": 19,
     "metadata": {},
     "output_type": "execute_result"
    },
    {
     "data": {
      "image/png": "[encoded data removed]",
      "text/plain": [
       "<Figure size 432x288 with 1 Axes>"
      ]
     },
     "metadata": {
      "needs_background": "light"
     },
     "output_type": "display_data"
    }
   ],
   "source": [
    "text_len_each_label = raw_train_ta_data.groupby(0).agg('mean','ch_count')['ch_count']\n",
    "text_len_each_label.plot(kind='bar')\n",
    "plt.title('Text char count in each label')\n",
    "plt.xlabel(\"category\")"
   ]
  },
  {
   "cell_type": "markdown",
   "metadata": {},
   "source": [
    "### 3.2 raw_dev_ta_data"
   ]
  },
  {
   "cell_type": "code",
   "execution_count": 20,
   "metadata": {},
   "outputs": [
    {
     "data": {
      "text/plain": [
       "count    560.000000\n",
       "mean      13.503571\n",
       "std       13.443980\n",
       "min        1.000000\n",
       "25%        5.000000\n",
       "50%        9.000000\n",
       "75%       16.000000\n",
       "max       89.000000\n",
       "Name: ch_count, dtype: float64"
      ]
     },
     "execution_count": 20,
     "metadata": {},
     "output_type": "execute_result"
    }
   ],
   "source": [
    "raw_dev_ta_data['tokens'] = raw_dev_ta_data[1].apply(tokenizer)\n",
    "raw_dev_ta_data['ch_count'] = raw_dev_ta_data['tokens'].apply(lambda x: len(x))\n",
    "raw_dev_ta_data['tokenstr'] = raw_dev_ta_data['tokens'].apply(lambda x: ' '.join(x))\n",
    "raw_dev_ta_data['ch_count'].describe()"
   ]
  },
  {
   "cell_type": "code",
   "execution_count": 21,
   "metadata": {},
   "outputs": [
    {
     "data": {
      "text/plain": [
       "Text(0.5, 0, 'category')"
      ]
     },
     "execution_count": 21,
     "metadata": {},
     "output_type": "execute_result"
    },
    {
     "data": {
      "image/png": "[encoded data removed]",
      "text/plain": [
       "<Figure size 432x288 with 1 Axes>"
      ]
     },
     "metadata": {
      "needs_background": "light"
     },
     "output_type": "display_data"
    }
   ],
   "source": [
    "text_len_each_label = raw_dev_ta_data.groupby(0).agg('mean','ch_count')['ch_count']\n",
    "text_len_each_label.plot(kind='bar')\n",
    "plt.title('Text char count in each label')\n",
    "plt.xlabel(\"category\")"
   ]
  },
  {
   "cell_type": "markdown",
   "metadata": {},
   "source": [
    "### 3.3 raw_train_ta_en_data"
   ]
  },
  {
   "cell_type": "code",
   "execution_count": 22,
   "metadata": {},
   "outputs": [
    {
     "data": {
      "text/plain": [
       "count    5943.000000\n",
       "mean       13.303382\n",
       "std        13.162002\n",
       "min         2.000000\n",
       "25%         6.000000\n",
       "50%         9.000000\n",
       "75%        15.000000\n",
       "max       178.000000\n",
       "Name: ch_count, dtype: float64"
      ]
     },
     "execution_count": 22,
     "metadata": {},
     "output_type": "execute_result"
    }
   ],
   "source": [
    "raw_train_ta_en_data['tokens'] = raw_train_ta_en_data[1].apply(tokenizer)\n",
    "raw_train_ta_en_data['ch_count'] = raw_train_ta_en_data['tokens'].apply(lambda x: len(x))\n",
    "raw_train_ta_en_data['tokenstr'] = raw_train_ta_en_data['tokens'].apply(lambda x: ' '.join(x))\n",
    "raw_train_ta_en_data['ch_count'].describe()"
   ]
  },
  {
   "cell_type": "code",
   "execution_count": 23,
   "metadata": {},
   "outputs": [
    {
     "data": {
      "text/plain": [
       "Text(0.5, 0, 'category')"
      ]
     },
     "execution_count": 23,
     "metadata": {},
     "output_type": "execute_result"
    },
    {
     "data": {
      "image/png": "[encoded data removed]",
      "text/plain": [
       "<Figure size 432x288 with 1 Axes>"
      ]
     },
     "metadata": {
      "needs_background": "light"
     },
     "output_type": "display_data"
    }
   ],
   "source": [
    "text_len_each_label = raw_train_ta_en_data.groupby(0).agg('mean','ch_count')['ch_count']\n",
    "text_len_each_label.plot(kind='bar')\n",
    "plt.title('Text char count in each label')\n",
    "plt.xlabel(\"category\")"
   ]
  },
  {
   "cell_type": "markdown",
   "metadata": {},
   "source": [
    "### 3.4 raw_dev_ta_en_data"
   ]
  },
  {
   "cell_type": "code",
   "execution_count": 24,
   "metadata": {},
   "outputs": [
    {
     "data": {
      "text/plain": [
       "count    1486.000000\n",
       "mean       13.386945\n",
       "std        13.352423\n",
       "min         3.000000\n",
       "25%         6.000000\n",
       "50%         9.000000\n",
       "75%        15.000000\n",
       "max       147.000000\n",
       "Name: ch_count, dtype: float64"
      ]
     },
     "execution_count": 24,
     "metadata": {},
     "output_type": "execute_result"
    }
   ],
   "source": [
    "raw_dev_ta_en_data['tokens'] = raw_dev_ta_en_data[1].apply(tokenizer)\n",
    "raw_dev_ta_en_data['ch_count'] = raw_dev_ta_en_data['tokens'].apply(lambda x: len(x))\n",
    "raw_dev_ta_en_data['tokenstr'] = raw_dev_ta_en_data['tokens'].apply(lambda x: ' '.join(x))\n",
    "raw_dev_ta_en_data['ch_count'].describe()"
   ]
  },
  {
   "cell_type": "code",
   "execution_count": 25,
   "metadata": {},
   "outputs": [
    {
     "data": {
      "text/plain": [
       "Text(0.5, 0, 'category')"
      ]
     },
     "execution_count": 25,
     "metadata": {},
     "output_type": "execute_result"
    },
    {
     "data": {
      "image/png": "[encoded data removed]",
      "text/plain": [
       "<Figure size 432x288 with 1 Axes>"
      ]
     },
     "metadata": {
      "needs_background": "light"
     },
     "output_type": "display_data"
    }
   ],
   "source": [
    "text_len_each_label = raw_dev_ta_en_data.groupby(0).agg('mean','ch_count')['ch_count']\n",
    "text_len_each_label.plot(kind='bar')\n",
    "plt.title('Text char count in each label')\n",
    "plt.xlabel(\"category\")"
   ]
  },
  {
   "cell_type": "markdown",
   "metadata": {},
   "source": [
    "## 4.统计各数据集中token的数量"
   ]
  },
  {
   "cell_type": "code",
   "execution_count": 25,
   "metadata": {},
   "outputs": [],
   "source": [
    "def count_tokens(token_lists):\n",
    "    all_tokens = []\n",
    "    for token_list in token_lists:\n",
    "        all_tokens += token_list\n",
    "    \n",
    "    return Counter(all_tokens).most_common()"
   ]
  },
  {
   "cell_type": "code",
   "execution_count": 26,
   "metadata": {},
   "outputs": [
    {
     "data": {
      "text/plain": [
       "11018"
      ]
     },
     "execution_count": 26,
     "metadata": {},
     "output_type": "execute_result"
    }
   ],
   "source": [
    "raw_train_ta_token_count = count_tokens(raw_train_ta_data['tokens'])\n",
    "len(raw_train_ta_token_count)"
   ]
  },
  {
   "cell_type": "code",
   "execution_count": 27,
   "metadata": {},
   "outputs": [
    {
     "data": {
      "text/plain": [
       "3693"
      ]
     },
     "execution_count": 27,
     "metadata": {},
     "output_type": "execute_result"
    }
   ],
   "source": [
    "raw_dev_ta_token_count = count_tokens(raw_dev_ta_data['tokens'])\n",
    "len(raw_dev_ta_token_count)"
   ]
  },
  {
   "cell_type": "code",
   "execution_count": 28,
   "metadata": {},
   "outputs": [
    {
     "data": {
      "text/plain": [
       "21315"
      ]
     },
     "execution_count": 28,
     "metadata": {},
     "output_type": "execute_result"
    }
   ],
   "source": [
    "raw_train_ta_en_token_count = count_tokens(raw_train_ta_en_data['tokens'])\n",
    "len(raw_train_ta_en_token_count)"
   ]
  },
  {
   "cell_type": "code",
   "execution_count": 29,
   "metadata": {},
   "outputs": [
    {
     "data": {
      "text/plain": [
       "7694"
      ]
     },
     "execution_count": 29,
     "metadata": {},
     "output_type": "execute_result"
    }
   ],
   "source": [
    "raw_dev_ta_en_token_count = count_tokens(raw_dev_ta_en_data['tokens'])\n",
    "len(raw_dev_ta_en_token_count)"
   ]
  },
  {
   "cell_type": "code",
   "execution_count": 32,
   "metadata": {},
   "outputs": [],
   "source": [
    "# 每个训练集中token数量太大, 字典太大, 考虑每个标签单独统计词频, 然后再与 None-of-the-above 整合\n",
    "# 暂时没用, 因为大部分都还是单个词, 感觉也不太好合并\n",
    "def count_each_tag_tokens(df, tag):\n",
    "    df_tag = df[df[0]==tag]\n",
    "    return dict(count_tokens(df_tag['tokens']))\n",
    "\n",
    "def combine_freq_dicts(freq_dicts):\n",
    "    final_freq_dict = defaultdict(int)\n",
    "    for fd in freq_dicts:\n",
    "        for k, v in fd.items():\n",
    "            final_freq_dict[k] += v\n",
    "    \n",
    "    return final_freq_dict\n",
    "\n",
    "def combine_abusive_tags_freq_dicts(df):\n",
    "    tags = ['Misandry', 'Counter-speech', 'Xenophobia', 'Hope-Speech', 'Misogyny', 'Homophobia', 'Transphobic']\n",
    "    return combine_freq_dicts([count_each_tag_tokens(df, tag) for tag in tags])\n",
    "\n",
    "def combine_all_freq_dicts(df):\n",
    "    abusive_tags_freq_dict = combine_abusive_tags_freq_dicts(df)\n",
    "    nonabusive_freq_dict = count_each_tag_tokens(df, 'None-of-the-above')\n",
    "    pass\n"
   ]
  },
  {
   "cell_type": "code",
   "execution_count": 26,
   "metadata": {},
   "outputs": [],
   "source": [
    "# 保存简单清洗过的dataframe\n",
    "raw_train_ta_data.to_csv(sys.path[-1] + '/raw_data/clean-ta-train.csv', header=['tag', 'raw_text', 'tokens', 'ch_count', 'tokenstr'], index=False)\n",
    "raw_dev_ta_data.to_csv(sys.path[-1] + '/raw_data/clean-ta-dev.csv', header=['tag', 'raw_text', 'tokens', 'ch_count', 'tokenstr'], index=False)\n",
    "raw_train_ta_en_data.to_csv(sys.path[-1] + '/raw_data/clean-ta-en-train.csv', header=['tag', 'raw_text', 'tokens', 'ch_count', 'tokenstr'], index=False)\n",
    "raw_dev_ta_en_data.to_csv(sys.path[-1] + '/raw_data/clean-ta-en-dev.csv', header=['tag', 'raw_text', 'tokens', 'ch_count', 'tokenstr'], index=False)"
   ]
  },
  {
   "cell_type": "code",
   "execution_count": null,
   "metadata": {},
   "outputs": [],
   "source": []
  }
 ],
 "metadata": {
  "interpreter": {
   "hash": "2b51cfec3c8e93b29d93c81040cbdc7c3b9660554987f1f733453121b1ba6236"
  },
  "kernelspec": {
   "display_name": "Python 3.7.11 64-bit ('torch110': conda)",
   "language": "python",
   "name": "python3"
  },
  "language_info": {
   "codemirror_mode": {
    "name": "ipython",
    "version": 3
   },
   "file_extension": ".py",
   "mimetype": "text/x-python",
   "name": "python",
   "nbconvert_exporter": "python",
   "pygments_lexer": "ipython3",
   "version": "3.7.11"
  },
  "orig_nbformat": 4
 },
 "nbformat": 4,
 "nbformat_minor": 2
}
